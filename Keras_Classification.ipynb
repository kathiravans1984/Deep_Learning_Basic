{
    "cells": [
        {
            "metadata": {},
            "cell_type": "code",
            "source": "import keras\n\nfrom keras.models import Sequential\nfrom keras.layers import Dense\nfrom keras.utils import to_categorical",
            "execution_count": 1,
            "outputs": [
                {
                    "output_type": "stream",
                    "text": "Using TensorFlow backend.\n",
                    "name": "stderr"
                }
            ]
        },
        {
            "metadata": {},
            "cell_type": "code",
            "source": "import matplotlib.pyplot as plt",
            "execution_count": 2,
            "outputs": []
        },
        {
            "metadata": {},
            "cell_type": "code",
            "source": "# import the data\nfrom keras.datasets import mnist\n\n# read the data\n(X_train, y_train), (X_test, y_test) = mnist.load_data()",
            "execution_count": 3,
            "outputs": [
                {
                    "output_type": "stream",
                    "text": "Downloading data from https://s3.amazonaws.com/img-datasets/mnist.npz\n11493376/11490434 [==============================] - 0s 0us/step\n",
                    "name": "stdout"
                }
            ]
        },
        {
            "metadata": {},
            "cell_type": "code",
            "source": "X_train.shape",
            "execution_count": 4,
            "outputs": [
                {
                    "output_type": "execute_result",
                    "execution_count": 4,
                    "data": {
                        "text/plain": "(60000, 28, 28)"
                    },
                    "metadata": {}
                }
            ]
        },
        {
            "metadata": {},
            "cell_type": "code",
            "source": "plt.imshow(X_train[300])",
            "execution_count": 5,
            "outputs": [
                {
                    "output_type": "execute_result",
                    "execution_count": 5,
                    "data": {
                        "text/plain": "<matplotlib.image.AxesImage at 0x7f384d8709e8>"
                    },
                    "metadata": {}
                },
                {
                    "output_type": "display_data",
                    "data": {
                        "text/plain": "<Figure size 432x288 with 1 Axes>",
                        "image/png": "[encoded data removed]"
                    },
                    "metadata": {
                        "needs_background": "light"
                    }
                }
            ]
        },
        {
            "metadata": {},
            "cell_type": "code",
            "source": "# flatten images into one-dimensional vector\n\nnum_pixels = X_train.shape[1] * X_train.shape[2] # find size of one-dimensional vector\n\nX_train = X_train.reshape(X_train.shape[0], num_pixels).astype('float32') # flatten training images\nX_test = X_test.reshape(X_test.shape[0], num_pixels).astype('float32') # flatten test images",
            "execution_count": 6,
            "outputs": []
        },
        {
            "metadata": {},
            "cell_type": "code",
            "source": "# normalize inputs from 0-255 to 0-1\nX_train = X_train / 255\nX_test = X_test / 255",
            "execution_count": 7,
            "outputs": []
        },
        {
            "metadata": {},
            "cell_type": "code",
            "source": "# one hot encode outputs\ny_train = to_categorical(y_train)\ny_test = to_categorical(y_test)\n\nnum_classes = y_test.shape[1]\nprint(num_classes)",
            "execution_count": 8,
            "outputs": [
                {
                    "output_type": "stream",
                    "text": "10\n",
                    "name": "stdout"
                }
            ]
        },
        {
            "metadata": {},
            "cell_type": "code",
            "source": "y_train.shape\n",
            "execution_count": 9,
            "outputs": [
                {
                    "output_type": "execute_result",
                    "execution_count": 9,
                    "data": {
                        "text/plain": "(60000, 10)"
                    },
                    "metadata": {}
                }
            ]
        },
        {
            "metadata": {},
            "cell_type": "code",
            "source": "# define classification model\ndef classification_model():\n    # create model\n    model = Sequential()\n    model.add(Dense(num_pixels, activation='relu', input_shape=(num_pixels,)))\n    model.add(Dense(100, activation='relu'))\n    model.add(Dense(num_classes, activation='softmax'))\n    \n    \n    # compile model\n    model.compile(optimizer='adam', loss='categorical_crossentropy', metrics=['accuracy'])\n    return model",
            "execution_count": 12,
            "outputs": []
        },
        {
            "metadata": {},
            "cell_type": "code",
            "source": "# build the model\nmodel = classification_model()\n\n# fit the model\nmodel.fit(X_train, y_train, validation_data=(X_test, y_test), epochs=5, verbose=2)\n\n# evaluate the model\nscores = model.evaluate(X_test, y_test, verbose=0)",
            "execution_count": 13,
            "outputs": [
                {
                    "output_type": "stream",
                    "text": "Train on 60000 samples, validate on 10000 samples\nEpoch 1/5\n - 91s - loss: 0.1837 - acc: 0.9446 - val_loss: 0.0835 - val_acc: 0.9744\nEpoch 2/5\n - 89s - loss: 0.0784 - acc: 0.9759 - val_loss: 0.0799 - val_acc: 0.9772\nEpoch 3/5\n - 90s - loss: 0.0532 - acc: 0.9829 - val_loss: 0.0948 - val_acc: 0.9725\nEpoch 4/5\n - 89s - loss: 0.0404 - acc: 0.9868 - val_loss: 0.0996 - val_acc: 0.9712\nEpoch 5/5\n - 91s - loss: 0.0303 - acc: 0.9900 - val_loss: 0.0866 - val_acc: 0.9786\n",
                    "name": "stdout"
                }
            ]
        },
        {
            "metadata": {},
            "cell_type": "code",
            "source": "scores",
            "execution_count": 15,
            "outputs": [
                {
                    "output_type": "execute_result",
                    "execution_count": 15,
                    "data": {
                        "text/plain": "[0.08663913231919287, 0.9786]"
                    },
                    "metadata": {}
                }
            ]
        },
        {
            "metadata": {},
            "cell_type": "code",
            "source": "",
            "execution_count": null,
            "outputs": []
        }
    ],
    "metadata": {
        "kernelspec": {
            "name": "python3",
            "display_name": "Python 3.6",
            "language": "python"
        },
        "language_info": {
            "name": "python",
            "version": "3.6.9",
            "mimetype": "text/x-python",
            "codemirror_mode": {
                "name": "ipython",
                "version": 3
            },
            "pygments_lexer": "ipython3",
            "nbconvert_exporter": "python",
            "file_extension": ".py"
        }
    },
    "nbformat": 4,
    "nbformat_minor": 1
}